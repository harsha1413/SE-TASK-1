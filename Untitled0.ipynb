{
  "nbformat": 4,
  "nbformat_minor": 0,
  "metadata": {
    "colab": {
      "provenance": []
    },
    "kernelspec": {
      "name": "python3",
      "display_name": "Python 3"
    },
    "language_info": {
      "name": "python"
    }
  },
  "cells": [
    {
      "cell_type": "code",
      "execution_count": 1,
      "metadata": {
        "colab": {
          "base_uri": "https://localhost:8080/"
        },
        "id": "EMv4m_asMA4G",
        "outputId": "936161f5-8a15-43fa-a6e0-993c78ea4c85"
      },
      "outputs": [
        {
          "output_type": "stream",
          "name": "stdout",
          "text": [
            " Hard-coded Variables for Weather Modeling\n",
            "Temperature for hardcoded coefficients at time 5 hours: 22.5\n",
            "\n",
            "\n",
            " Keyboard Input for Weather Modeling\n",
            "Enter coefficient a: 2\n",
            "Enter coefficient b: 3\n",
            "Enter coefficient c: 4\n",
            "Enter time in hours: 4\n",
            "Temperature for keyboard input coefficients at time 4.0 hours: 48.0\n",
            "\n",
            "\n",
            "Read from a File for Weather Modeling\n",
            "Temperature for file input coefficients at time 2.0 hours: 9.0\n",
            "\n",
            "\n",
            "Read from a File for Weather Modeling\n",
            "Temperature for file input coefficients at time 4.0 hours: 37.0\n",
            "\n",
            "\n",
            "Read from a File for Weather Modeling\n",
            "Temperature for file input coefficients at time 8.0 hours: 286.0\n",
            "\n",
            "\n",
            "Read from a File for Weather Modeling\n",
            "Temperature for file input coefficients at time 6.0 hours: 296.0\n",
            "\n",
            "\n"
          ]
        }
      ],
      "source": [
        "def temperature_modeling(a, b, c, time):\n",
        "    # Calculate temperature based on time using the quadratic equation\n",
        "    temperature = a * time**2 + b * time + c\n",
        "    return temperature\n",
        "a_hardcoded, b_hardcoded, c_hardcoded = 0.1, 2, 10\n",
        "# Display results\n",
        "print(\" Hard-coded Variables for Weather Modeling\")\n",
        "time_hardcoded = 5  # Example time value\n",
        "print(\"Temperature for hardcoded coefficients at time\", time_hardcoded, \"hours:\", temperature_modeling(a_hardcoded, b_hardcoded, c_hardcoded, time_hardcoded))\n",
        "print(\"\\n\")\n",
        "\n",
        "print(\" Keyboard Input for Weather Modeling\")\n",
        "\n",
        "a_keyboard = float(input(\"Enter coefficient a: \"))\n",
        "b_keyboard = float(input(\"Enter coefficient b: \"))\n",
        "c_keyboard = float(input(\"Enter coefficient c: \"))\n",
        "\n",
        "# Get time from user input\n",
        "time_keyboard = float(input(\"Enter time in hours: \"))\n",
        "\n",
        "# Display results\n",
        "print(\"Temperature for keyboard input coefficients at time\", time_keyboard, \"hours:\", temperature_modeling(a_keyboard, b_keyboard, c_keyboard, time_keyboard))\n",
        "print(\"\\n\")\n",
        "\n",
        "\n",
        "\n",
        "with open('hve.txt', 'r') as file:\n",
        "\n",
        "    lines = file.readlines()\n",
        "    for g in lines:\n",
        "      a_file, b_file, c_file, time_file = map(float, g.split())\n",
        "      print(\"Read from a File for Weather Modeling\")\n",
        "      print(\"Temperature for file input coefficients at time\", time_file, \"hours:\", temperature_modeling(a_file, b_file, c_file, time_file))\n",
        "      print(\"\\n\")\n",
        "\n",
        "# Display results"
      ]
    }
  ]
}